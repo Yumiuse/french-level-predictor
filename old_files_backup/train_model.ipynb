{
  "nbformat": 4,
  "nbformat_minor": 0,
  "metadata": {
    "colab": {
      "provenance": [],
      "mount_file_id": "1h7sT0rHD9Kuulb7RqqQTgNapSLlt1ph6",
      "authorship_tag": "ABX9TyPN+PZ4rIjTU61t8JdYSM/P",
      "include_colab_link": true
    },
    "kernelspec": {
      "name": "python3",
      "display_name": "Python 3"
    },
    "language_info": {
      "name": "python"
    }
  },
  "cells": [
    {
      "cell_type": "markdown",
      "metadata": {
        "id": "view-in-github",
        "colab_type": "text"
      },
      "source": [
        "<a href=\"https://colab.research.google.com/github/Yumiuse/french-flashcard-portfolio/blob/main/train_model.ipynb\" target=\"_parent\"><img src=\"https://colab.research.google.com/assets/colab-badge.svg\" alt=\"Open In Colab\"/></a>"
      ]
    },
    {
      "cell_type": "markdown",
      "source": [
        "リポジトリを丸ごと取得"
      ],
      "metadata": {
        "id": "En3zR9SXxb2z"
      }
    },
    {
      "cell_type": "code",
      "source": [
        "# Colabにドライブマウント（最初の１回だけ）\n",
        "from google.colab import drive; drive.mount('/content/drive')\n",
        "\n",
        "# CSVを読み込んで、バックアップ用フォルダにそのまま書き出し\n",
        "import pandas as pd, os\n",
        "src = '/content/drive/MyDrive/mettre_fin_Lexique_translated_v6w_修正済み.csv'\n",
        "dst = '/content/drive/MyDrive/backup/df_backup.csv'\n",
        "os.makedirs(os.path.dirname(dst), exist_ok=True)\n",
        "pd.read_csv(src).to_csv(dst, index=False)\n",
        "print(\"Saved:\", dst)\n"
      ],
      "metadata": {
        "colab": {
          "base_uri": "https://localhost:8080/"
        },
        "id": "rvMcJaTj5jJS",
        "outputId": "8cef5350-8f93-4b33-854c-63b08accafc8"
      },
      "execution_count": 1,
      "outputs": [
        {
          "output_type": "stream",
          "name": "stdout",
          "text": [
            "Drive already mounted at /content/drive; to attempt to forcibly remount, call drive.mount(\"/content/drive\", force_remount=True).\n",
            "Saved: /content/drive/MyDrive/backup/df_backup.csv\n"
          ]
        }
      ]
    },
    {
      "cell_type": "code",
      "source": [
        "import pandas as pd\n",
        "from sklearn.model_selection import train_test_split\n",
        "from sklearn.preprocessing import LabelEncoder, OneHotEncoder, StandardScaler\n",
        "from sklearn.feature_extraction.text import TfidfVectorizer\n",
        "from sklearn.compose import ColumnTransformer\n",
        "from sklearn.pipeline import Pipeline\n",
        "from xgboost import XGBClassifier\n",
        "from sklearn.metrics import classification_report, confusion_matrix, ConfusionMatrixDisplay\n",
        "import joblib\n",
        "import matplotlib.pyplot as plt\n",
        "from sklearn.model_selection import StratifiedKFold, cross_validate\n"
      ],
      "metadata": {
        "id": "o56OivUAJ3Lx"
      },
      "execution_count": 2,
      "outputs": []
    },
    {
      "cell_type": "code",
      "source": [
        "%cd /content/drive/MyDrive\n",
        "!git clone https://github.com/Yumiuse/french-flashcard-portfolio.git\n"
      ],
      "metadata": {
        "colab": {
          "base_uri": "https://localhost:8080/"
        },
        "id": "mP7u8JGraUa5",
        "outputId": "0cff9e0c-c8e4-4483-ef37-ca44acc2121b"
      },
      "execution_count": 3,
      "outputs": [
        {
          "output_type": "stream",
          "name": "stdout",
          "text": [
            "/content/drive/MyDrive\n",
            "fatal: destination path 'french-flashcard-portfolio' already exists and is not an empty directory.\n"
          ]
        }
      ]
    },
    {
      "cell_type": "code",
      "source": [
        "%cd /content/drive/MyDrive/french-flashcard-portfolio\n",
        "!ls -1\n"
      ],
      "metadata": {
        "colab": {
          "base_uri": "https://localhost:8080/"
        },
        "id": "n4hagsUyZfBt",
        "outputId": "2a7b21e1-222b-4da7-caf4-6816192d4836"
      },
      "execution_count": 4,
      "outputs": [
        {
          "output_type": "stream",
          "name": "stdout",
          "text": [
            "/content/drive/MyDrive/french-flashcard-portfolio\n",
            "data\n",
            "README.md\n",
            "train_model.py\n"
          ]
        }
      ]
    },
    {
      "cell_type": "code",
      "source": [
        "%%writefile /content/drive/MyDrive/french-flashcard-portfolio/train_model.py\n",
        "# ------ train_model.py の中身をここに丸ごと貼り付け ------\n",
        "\n",
        "# …（省略せずスクリプト全文を貼ってください）…\n"
      ],
      "metadata": {
        "colab": {
          "base_uri": "https://localhost:8080/"
        },
        "id": "_vPHVznmao4e",
        "outputId": "b94993be-ce4e-43b9-e5b5-8379e8dc80a3"
      },
      "execution_count": 5,
      "outputs": [
        {
          "output_type": "stream",
          "name": "stdout",
          "text": [
            "Overwriting /content/drive/MyDrive/french-flashcard-portfolio/train_model.py\n"
          ]
        }
      ]
    },
    {
      "cell_type": "code",
      "source": [
        "!git add train_model.py\n",
        "!git commit -m \"モデルスクリプト更新\"\n",
        "!git push\n"
      ],
      "metadata": {
        "colab": {
          "base_uri": "https://localhost:8080/"
        },
        "id": "hbm0GpkRYvdP",
        "outputId": "286a8210-820e-4be7-a22c-02a14651f4bf"
      },
      "execution_count": 6,
      "outputs": [
        {
          "output_type": "stream",
          "name": "stdout",
          "text": [
            "Author identity unknown\n",
            "\n",
            "*** Please tell me who you are.\n",
            "\n",
            "Run\n",
            "\n",
            "  git config --global user.email \"you@example.com\"\n",
            "  git config --global user.name \"Your Name\"\n",
            "\n",
            "to set your account's default identity.\n",
            "Omit --global to set the identity only in this repository.\n",
            "\n",
            "fatal: unable to auto-detect email address (got 'root@23bbbbf18aac.(none)')\n",
            "fatal: could not read Username for 'https://github.com': No such device or address\n"
          ]
        }
      ]
    },
    {
      "cell_type": "code",
      "source": [
        "%cd /content/french-flashcard-portfolio\n",
        "!ls -1\n",
        "\n",
        "#data/ フォルダの中身を確認\n",
        "!ls -l data\n",
        "!python3 train_model.py"
      ],
      "metadata": {
        "colab": {
          "base_uri": "https://localhost:8080/"
        },
        "id": "Ss0mEhsd4WG0",
        "outputId": "53ed1b57-028c-4b19-bcaa-18b7da4ac80b"
      },
      "execution_count": 7,
      "outputs": [
        {
          "output_type": "stream",
          "name": "stdout",
          "text": [
            "[Errno 2] No such file or directory: '/content/french-flashcard-portfolio'\n",
            "/content/drive/MyDrive/french-flashcard-portfolio\n",
            "data\n",
            "README.md\n",
            "train_model.py\n",
            "total 22513\n",
            "-rw------- 1 root root 23052575 May 16 04:45 mettre_fin_Lexique_translated_v6w_修正済み.csv\n"
          ]
        }
      ]
    },
    {
      "cell_type": "code",
      "source": [
        "!pip install autopep8\n"
      ],
      "metadata": {
        "colab": {
          "base_uri": "https://localhost:8080/"
        },
        "id": "hpsJyH6Bn_6w",
        "outputId": "de97459b-ece3-4730-ed34-a67ceb5a9aa1"
      },
      "execution_count": 8,
      "outputs": [
        {
          "output_type": "stream",
          "name": "stdout",
          "text": [
            "Collecting autopep8\n",
            "  Downloading autopep8-2.3.2-py2.py3-none-any.whl.metadata (16 kB)\n",
            "Collecting pycodestyle>=2.12.0 (from autopep8)\n",
            "  Downloading pycodestyle-2.13.0-py2.py3-none-any.whl.metadata (4.5 kB)\n",
            "Downloading autopep8-2.3.2-py2.py3-none-any.whl (45 kB)\n",
            "\u001b[2K   \u001b[90m━━━━━━━━━━━━━━━━━━━━━━━━━━━━━━━━━━━━━━━━\u001b[0m \u001b[32m45.8/45.8 kB\u001b[0m \u001b[31m1.7 MB/s\u001b[0m eta \u001b[36m0:00:00\u001b[0m\n",
            "\u001b[?25hDownloading pycodestyle-2.13.0-py2.py3-none-any.whl (31 kB)\n",
            "Installing collected packages: pycodestyle, autopep8\n",
            "Successfully installed autopep8-2.3.2 pycodestyle-2.13.0\n"
          ]
        }
      ]
    },
    {
      "cell_type": "code",
      "source": [
        "!autopep8 --in-place --aggressive --aggressive train_model.py\n"
      ],
      "metadata": {
        "id": "LRNL0Nt9oJYf"
      },
      "execution_count": 9,
      "outputs": []
    },
    {
      "cell_type": "code",
      "source": [
        "%cd /content/french-flashcard-portfolio/french-flashcard-portfolio\n",
        "!ls -1\n",
        "# ここに train_model.py が見えるはず\n",
        "!python3 train_model.py\n"
      ],
      "metadata": {
        "colab": {
          "base_uri": "https://localhost:8080/"
        },
        "id": "tZkTsVL5-aai",
        "outputId": "231baf41-abc4-4b36-bb79-8b419e4e7152"
      },
      "execution_count": 10,
      "outputs": [
        {
          "output_type": "stream",
          "name": "stdout",
          "text": [
            "[Errno 2] No such file or directory: '/content/french-flashcard-portfolio/french-flashcard-portfolio'\n",
            "/content/drive/MyDrive/french-flashcard-portfolio\n",
            "data\n",
            "README.md\n",
            "train_model.py\n"
          ]
        }
      ]
    },
    {
      "cell_type": "code",
      "source": [
        "\n",
        "def main():\n",
        "    # --- 1) データ読み込み ---\n",
        "    df = pd.read_csv('data/mettre_fin_Lexique_translated_v6w_修正済み.csv')\n",
        "\n",
        "    # --- 2) 欠損値補完 ---\n",
        "    df['lemme'] = df['lemme'].fillna('')\n",
        "    df['cgram'] = df['cgram'].fillna('unknown')\n",
        "    df['genre'] = df['genre'].fillna('none')\n",
        "\n",
        "    le = LabelEncoder()\n",
        "    df['level_code'] = le.fit_transform(df['level'])  # ← ここで level_code を作成\n",
        "\n",
        "    # --- 3) 数値特徴量追加 ---\n",
        "    df['avg_freq'] = ((df['freqlemfilms2'] + df['freqlemlivres']) / 2).fillna(0)\n",
        "\n",
        "    # --- 4) ラベルエンコード ---\n",
        "    le = LabelEncoder()\n",
        "    df['level_code'] = le.fit_transform(df['level'])  # 1→0, 2→1, 3→2\n",
        "\n",
        "    # --- 5) 特徴量/ラベル定義 ---\n",
        "    X = df[['lemme', 'cgram', 'genre', 'avg_freq']]\n",
        "    y = df['level_code']\n",
        "\n",
        "    # --- 6) 訓練/テスト分割（層化抽出）---\n",
        "    X_train, X_test, y_train, y_test = train_test_split(\n",
        "        X, y, test_size=0.2, random_state=42, stratify=y\n",
        "    )\n",
        "\n",
        "    # --- 7) 前処理パイプライン定義 ---\n",
        "    preprocessor = ColumnTransformer([\n",
        "        ('tfidf', TfidfVectorizer(max_features=2000), 'lemme'),\n",
        "        ('ohe',   OneHotEncoder(handle_unknown='ignore', sparse_output=False), ['cgram','genre']),\n",
        "        ('num',   StandardScaler(), ['avg_freq']),\n",
        "    ])\n",
        "    remainder='drop'\n",
        "\n",
        "\n",
        "    # --- 8) モデルパイプライン作成 ---\n",
        "    pipeline = Pipeline([\n",
        "        ('pre', preprocessor),\n",
        "        ('clf', XGBClassifier(\n",
        "            max_depth=4,\n",
        "            n_estimators=200,\n",
        "            objective='multi:softprob',\n",
        "            eval_metric='mlogloss',\n",
        "            use_label_encoder=False,\n",
        "            random_state=42,\n",
        "            n_jobs=-1\n",
        "        ))\n",
        "    ])\n",
        "\n",
        "    # --- 9) モデル訓練 ---\n",
        "    print(\"▶ Training XGBoost model...\")\n",
        "    pipeline.fit(X_train, y_train)\n",
        "\n",
        "    # --- 10) 評価 ---\n",
        "    print(\"▶ Evaluating on test set...\")\n",
        "    y_pred = pipeline.predict(X_test)\n",
        "    target_names = [f\"Level {c}\" for c in le.classes_]\n",
        "    print(classification_report(y_test, y_pred, target_names=target_names, digits=3))\n",
        "\n",
        "    # 混同行列の可視化\n",
        "    cm = confusion_matrix(y_test, y_pred)\n",
        "    disp = ConfusionMatrixDisplay(cm, display_labels=target_names)\n",
        "    disp.plot()\n",
        "    plt.title('Confusion Matrix')\n",
        "    plt.xlabel('Predicted')\n",
        "    plt.ylabel('Actual')\n",
        "    plt.show()\n",
        "\n",
        "    # --- 3) Stratified K-Fold CV の実行 ---\n",
        "    print(\"▶ Running Stratified K-Fold CV ...\")\n",
        "    skf = StratifiedKFold(n_splits=5, shuffle=True, random_state=42)\n",
        "    scoring = ['accuracy','precision_macro','recall_macro','f1_macro']\n",
        "    cv_results = cross_validate(\n",
        "        pipeline,\n",
        "        X,\n",
        "        y,\n",
        "        cv=skf,\n",
        "        scoring=scoring,\n",
        "        n_jobs=-1,\n",
        "        return_train_score=False\n",
        "    )\n",
        "    for metric in scoring:\n",
        "        scores = cv_results[f'test_{metric}']\n",
        "        print(f\"{metric}: {scores.mean():.3f} ± {scores.std():.3f}\")\n",
        "\n",
        "    # --- 4) モデル保存 ---\n",
        "    joblib.dump(pipeline, 'level_model.pkl')\n",
        "    joblib.dump(le,       'label_encoder.pkl')\n",
        "\n",
        "\n",
        "\n",
        "if __name__ == '__main__':\n",
        "    main()\n",
        "\n",
        "\n",
        "\n"
      ],
      "metadata": {
        "colab": {
          "base_uri": "https://localhost:8080/",
          "height": 837
        },
        "id": "miFI9AWfpoWG",
        "outputId": "e57a95f4-3bd5-4d34-c1e2-310ce4f30069"
      },
      "execution_count": 25,
      "outputs": [
        {
          "output_type": "stream",
          "name": "stdout",
          "text": [
            "▶ Training XGBoost model...\n"
          ]
        },
        {
          "output_type": "stream",
          "name": "stderr",
          "text": [
            "/usr/local/lib/python3.11/dist-packages/xgboost/core.py:158: UserWarning: [07:59:14] WARNING: /workspace/src/learner.cc:740: \n",
            "Parameters: { \"use_label_encoder\" } are not used.\n",
            "\n",
            "  warnings.warn(smsg, UserWarning)\n"
          ]
        },
        {
          "output_type": "stream",
          "name": "stdout",
          "text": [
            "▶ Evaluating on test set...\n",
            "              precision    recall  f1-score   support\n",
            "\n",
            "     Level 1      0.999     0.999     0.999     10603\n",
            "     Level 2      0.997     0.994     0.995      9843\n",
            "     Level 3      0.996     0.998     0.997     10067\n",
            "\n",
            "    accuracy                          0.997     30513\n",
            "   macro avg      0.997     0.997     0.997     30513\n",
            "weighted avg      0.997     0.997     0.997     30513\n",
            "\n"
          ]
        },
        {
          "output_type": "display_data",
          "data": {
            "text/plain": [
              "<Figure size 640x480 with 2 Axes>"
            ],
            "image/png": "[encoded data removed]"
          },
          "metadata": {}
        },
        {
          "output_type": "stream",
          "name": "stdout",
          "text": [
            "▶ Running Stratified K-Fold CV ...\n",
            "accuracy: 0.997 ± 0.000\n",
            "precision_macro: 0.997 ± 0.000\n",
            "recall_macro: 0.997 ± 0.000\n",
            "f1_macro: 0.997 ± 0.000\n"
          ]
        }
      ]
    },
    {
      "cell_type": "markdown",
      "source": [
        "１段階目\n",
        "\n",
        "結果の読み解き\n",
        "Accuracy: 0.997\n",
        "\n",
        "Level 1 (初級)\n",
        "\n",
        "Precision 0.999, Recall 0.999, F1-score 0.999\n",
        "\n",
        "10,588件を正しく初級と予測し、15件をLevel 2と、0件をLevel 3と誤分類。\n",
        "\n",
        "Level 2 (中級)\n",
        "\n",
        "Precision 0.997, Recall 0.994, F1-score 0.995\n",
        "\n",
        "9,786件を正しく中級と予測。14件がLevel 1、43件がLevel 3と誤分類。\n",
        "\n",
        "Level 3 (上級)\n",
        "\n",
        "Precision 0.996, Recall 0.998, F1-score 0.997\n",
        "\n",
        "10,048件を正しく上級と予測。0件がLevel 1、19件がLevel 2と誤分類。\n",
        "\n",
        "\n",
        "\n",
        "（※表示の都合上、上級の行は「1 e + 04」で 10,048件正解を示しています）\n",
        "\n",
        "考察\n",
        "全体的に非常に高い性能\n",
        "どのクラスも Precision/Recall 共に0.99超。中級（Level 2）の Recall も0.994 と高く、以前の「中級がほぼ全滅」という状況は解消されています。\n",
        "\n",
        "微小な誤分類パターン\n",
        "\n",
        "中級→上級（43件）と上級→中級（19件）がわずかに見られます。\n",
        "\n",
        "初級↔中級の誤分類はごく稀（各15件前後）です。\n",
        "\n",
        "“ほぼ完璧”な結果の裏にあるリスク\n",
        "\n",
        "データリーク: TF–IDFのフィッティングを分割前に全データで行っていると、テストセットの語彙分布に“先入れ知識”を与えています。\n",
        "\n",
        "モデルが難易度を文字列パターンで覚えている可能性もあり、単語の文字的特徴だけでレベルがほぼ決まっているデータ構造かもしれません。\n",
        "\n",
        "過学習: 1回の train/test split だけで評価すると、偶然分割が偏っている場合に過度に高いスコアが出ることがあります。"
      ],
      "metadata": {
        "id": "YFQ4pKdKEwLF"
      }
    },
    {
      "cell_type": "markdown",
      "source": [
        "２段階目\n",
        "クロスバリデーションを追加で実施。\n",
        "1. K-Fold Cross-Validation（K分割交差検証）のおさらい\n",
        "データを等しい大きさの K 個の「フォールド（fold）」に分割\n",
        "\n",
        "1回ごとにひとつのフォールドをテストセット、残り K–1 つを訓練セットとしてモデルを学習・評価\n",
        "\n",
        "計 K 回繰り返し、各回の評価スコアを平均して「汎化性能」を推定\n",
        "\n",
        "メリット\n",
        "\n",
        "データ全体を何度もテストセットとして利用でき、１回の train/test split よりもバラつきが抑えられる\n",
        "\n",
        "2. 「Stratified（層化）」を入れる理由\n",
        "通常の K-Fold だと、特にクラス不均衡がある場合に「あるフォールドにレアクラスのサンプルがほとんど含まれない」ことが起こり得る\n",
        "\n",
        "そうすると、そのフォールドでの評価が不安定・偏ったものになってしまいます\n",
        "\n",
        "→ 層化（Stratified）を入れると、\n",
        "\n",
        "各フォールド内で「クラスA: クラスB: クラスC = 全体の比率」と同じになるようにサンプルを割り当て\n",
        "\n",
        "どのフォールドでも同様のクラス構成で評価できるので、結果のばらつきがさらに抑えられる\n",
        "\n",
        "\n",
        "\n",
        "平均スコア ≈ 0.997、標準偏差 ≈ 0.000\n",
        "→ ５分割のすべてのフォールドでほぼ同じ高スコアが出ており、単一の train/test split による「たまたま高かった」ではないことが確認できました。\n",
        "\n",
        "1) ここまででわかったこと\n",
        "過学習ではなく、同一分布内のクロスバリデーションでも安定して高精度を維持\n",
        "\n",
        "前処理＋モデル学習→予測までが Pipeline の中で完結しているため、データ漏洩も起こっていない\n",
        "\n",
        "“中級”クラスの苦手意識も解消され、すべての CEFR レベルで 99.7% 以上の識別性能を獲得\n",
        "\n",
        "とはいえ、あくまで「同一コーパス内」での精度です。次のステップで、本当に汎化できるモデルかどうかをさらに検証すべき。"
      ],
      "metadata": {
        "id": "CdsoKPhkOA5P"
      }
    },
    {
      "cell_type": "markdown",
      "source": [
        "現状：同一データを用いた 5-fold CV で 99.7%±0.0% の高精度"
      ],
      "metadata": {
        "id": "TgJ5ljnOTM8L"
      }
    },
    {
      "cell_type": "markdown",
      "source": [],
      "metadata": {
        "id": "nlEEs_3K7MZJ"
      }
    },
    {
      "cell_type": "code",
      "source": [],
      "metadata": {
        "id": "dU3piAEdNPdO"
      },
      "execution_count": null,
      "outputs": []
    },
    {
      "cell_type": "code",
      "source": [
        "def main():\n",
        "    # --- 1) データ読み込み ---\n",
        "    df = pd.read_csv('data/mettre_fin_Lexique_translated_v6w_修正済み.csv')\n",
        "\n",
        "\n",
        "# 2) 総単語数\n",
        "\n",
        "total = len(df)\n",
        "print(f\"Total words: {total}\")\n",
        "\n",
        "# 3) レベルごとの件数\n",
        "counts = df['level'].value_counts().sort_index()\n",
        "for lvl, cnt in counts.items():\n",
        "    print(f\"Level {lvl}: {cnt}\")"
      ],
      "metadata": {
        "colab": {
          "base_uri": "https://localhost:8080/"
        },
        "id": "3l3Z1KjHNUsW",
        "outputId": "3e67d18a-9312-4b83-995d-f27ba3b6fd58"
      },
      "execution_count": 23,
      "outputs": [
        {
          "output_type": "stream",
          "name": "stdout",
          "text": [
            "Total words: 152562\n",
            "Level 1: 53016\n",
            "Level 2: 49212\n",
            "Level 3: 50334\n"
          ]
        }
      ]
    },
    {
      "cell_type": "markdown",
      "source": [],
      "metadata": {
        "id": "HHmENVgQNuEC"
      }
    },
    {
      "cell_type": "code",
      "source": [
        "if __name__ == '__main__':\n",
        "    main()\n"
      ],
      "metadata": {
        "id": "y7g23BTOcnk7"
      },
      "execution_count": 24,
      "outputs": []
    }
  ]
}